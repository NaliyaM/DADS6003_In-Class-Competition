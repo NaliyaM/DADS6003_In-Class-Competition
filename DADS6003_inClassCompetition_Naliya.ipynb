{
 "cells": [
  {
   "cell_type": "code",
   "execution_count": 1,
   "metadata": {},
   "outputs": [],
   "source": [
    "# This Python 3 environment comes with many helpful analytics libraries installed\n",
    "# It is defined by the kaggle/python Docker image: https://github.com/kaggle/docker-python\n",
    "# For example, here's several helpful packages to load\n",
    "\n",
    "import numpy as np # linear algebra\n",
    "import pandas as pd # data processing, CSV file I/O (e.g. pd.read_csv)\n",
    "\n",
    "# Input data files are available in the read-only \"../input/\" directory\n",
    "# For example, running this (by clicking run or pressing Shift+Enter) will list all files under the input directory\n",
    "\n",
    "# import os\n",
    "# for dirname, _, filenames in os.walk('/kaggle/input'):\n",
    "#     for filename in filenames:\n",
    "#         print(os.path.join(dirname, filename))\n",
    "\n",
    "# You can write up to 20GB to the current directory (/kaggle/working/) that gets preserved as output when you create a version using \"Save & Run All\" \n",
    "# You can also write temporary files to /kaggle/temp/, but they won't be saved outside of the current session"
   ]
  },
  {
   "cell_type": "code",
   "execution_count": 2,
   "metadata": {},
   "outputs": [
    {
     "data": {
      "text/html": [
       "<div>\n",
       "<style scoped>\n",
       "    .dataframe tbody tr th:only-of-type {\n",
       "        vertical-align: middle;\n",
       "    }\n",
       "\n",
       "    .dataframe tbody tr th {\n",
       "        vertical-align: top;\n",
       "    }\n",
       "\n",
       "    .dataframe thead th {\n",
       "        text-align: right;\n",
       "    }\n",
       "</style>\n",
       "<table border=\"1\" class=\"dataframe\">\n",
       "  <thead>\n",
       "    <tr style=\"text-align: right;\">\n",
       "      <th></th>\n",
       "      <th>x1</th>\n",
       "      <th>x2</th>\n",
       "      <th>x3</th>\n",
       "      <th>x4</th>\n",
       "      <th>x5</th>\n",
       "      <th>x6</th>\n",
       "      <th>x7</th>\n",
       "      <th>x8</th>\n",
       "      <th>x9</th>\n",
       "      <th>x10</th>\n",
       "      <th>...</th>\n",
       "      <th>x12</th>\n",
       "      <th>x13</th>\n",
       "      <th>x14</th>\n",
       "      <th>x15</th>\n",
       "      <th>x16</th>\n",
       "      <th>x17</th>\n",
       "      <th>x18</th>\n",
       "      <th>x19</th>\n",
       "      <th>x20</th>\n",
       "      <th>y</th>\n",
       "    </tr>\n",
       "  </thead>\n",
       "  <tbody>\n",
       "    <tr>\n",
       "      <th>0</th>\n",
       "      <td>-10.731014</td>\n",
       "      <td>-166.447703</td>\n",
       "      <td>57.634618</td>\n",
       "      <td>5.851483</td>\n",
       "      <td>6.443051</td>\n",
       "      <td>773.535357</td>\n",
       "      <td>-425.516507</td>\n",
       "      <td>19.541551</td>\n",
       "      <td>102333.24180</td>\n",
       "      <td>37.515512</td>\n",
       "      <td>...</td>\n",
       "      <td>1.177903</td>\n",
       "      <td>4531.019914</td>\n",
       "      <td>65.320993</td>\n",
       "      <td>10.856422</td>\n",
       "      <td>42.317769</td>\n",
       "      <td>215.727832</td>\n",
       "      <td>9.922942</td>\n",
       "      <td>194.151039</td>\n",
       "      <td>-4.580311</td>\n",
       "      <td>0</td>\n",
       "    </tr>\n",
       "    <tr>\n",
       "      <th>1</th>\n",
       "      <td>-11.357862</td>\n",
       "      <td>-175.583196</td>\n",
       "      <td>61.413742</td>\n",
       "      <td>4.957525</td>\n",
       "      <td>6.022880</td>\n",
       "      <td>592.665369</td>\n",
       "      <td>-154.993322</td>\n",
       "      <td>17.165756</td>\n",
       "      <td>56410.00878</td>\n",
       "      <td>33.667832</td>\n",
       "      <td>...</td>\n",
       "      <td>6.288225</td>\n",
       "      <td>5745.900235</td>\n",
       "      <td>124.629610</td>\n",
       "      <td>19.519498</td>\n",
       "      <td>37.481917</td>\n",
       "      <td>193.590955</td>\n",
       "      <td>10.280823</td>\n",
       "      <td>159.152326</td>\n",
       "      <td>-4.361565</td>\n",
       "      <td>0</td>\n",
       "    </tr>\n",
       "    <tr>\n",
       "      <th>2</th>\n",
       "      <td>-19.008191</td>\n",
       "      <td>-266.301983</td>\n",
       "      <td>43.228042</td>\n",
       "      <td>5.173549</td>\n",
       "      <td>5.569678</td>\n",
       "      <td>912.741203</td>\n",
       "      <td>-337.001477</td>\n",
       "      <td>18.362978</td>\n",
       "      <td>37204.35472</td>\n",
       "      <td>24.194495</td>\n",
       "      <td>...</td>\n",
       "      <td>5.241047</td>\n",
       "      <td>5369.285274</td>\n",
       "      <td>136.536890</td>\n",
       "      <td>16.824492</td>\n",
       "      <td>31.761223</td>\n",
       "      <td>195.816664</td>\n",
       "      <td>9.604161</td>\n",
       "      <td>148.690528</td>\n",
       "      <td>-5.322491</td>\n",
       "      <td>1</td>\n",
       "    </tr>\n",
       "    <tr>\n",
       "      <th>3</th>\n",
       "      <td>-16.849847</td>\n",
       "      <td>-228.458742</td>\n",
       "      <td>45.440429</td>\n",
       "      <td>6.267129</td>\n",
       "      <td>4.125443</td>\n",
       "      <td>834.109486</td>\n",
       "      <td>-297.096954</td>\n",
       "      <td>16.375756</td>\n",
       "      <td>54967.23130</td>\n",
       "      <td>20.578061</td>\n",
       "      <td>...</td>\n",
       "      <td>2.316119</td>\n",
       "      <td>NaN</td>\n",
       "      <td>118.295834</td>\n",
       "      <td>19.972844</td>\n",
       "      <td>51.722932</td>\n",
       "      <td>210.446677</td>\n",
       "      <td>8.108592</td>\n",
       "      <td>310.539447</td>\n",
       "      <td>-5.205344</td>\n",
       "      <td>0</td>\n",
       "    </tr>\n",
       "    <tr>\n",
       "      <th>4</th>\n",
       "      <td>-11.518749</td>\n",
       "      <td>-345.861627</td>\n",
       "      <td>37.470283</td>\n",
       "      <td>6.178874</td>\n",
       "      <td>5.527774</td>\n",
       "      <td>634.255353</td>\n",
       "      <td>-243.072126</td>\n",
       "      <td>16.785630</td>\n",
       "      <td>62397.51981</td>\n",
       "      <td>39.815572</td>\n",
       "      <td>...</td>\n",
       "      <td>5.366404</td>\n",
       "      <td>6161.928292</td>\n",
       "      <td>61.414626</td>\n",
       "      <td>15.990853</td>\n",
       "      <td>51.659323</td>\n",
       "      <td>203.356424</td>\n",
       "      <td>12.552922</td>\n",
       "      <td>241.868249</td>\n",
       "      <td>-4.889072</td>\n",
       "      <td>1</td>\n",
       "    </tr>\n",
       "  </tbody>\n",
       "</table>\n",
       "<p>5 rows × 21 columns</p>\n",
       "</div>"
      ],
      "text/plain": [
       "          x1          x2         x3        x4        x5          x6  \\\n",
       "0 -10.731014 -166.447703  57.634618  5.851483  6.443051  773.535357   \n",
       "1 -11.357862 -175.583196  61.413742  4.957525  6.022880  592.665369   \n",
       "2 -19.008191 -266.301983  43.228042  5.173549  5.569678  912.741203   \n",
       "3 -16.849847 -228.458742  45.440429  6.267129  4.125443  834.109486   \n",
       "4 -11.518749 -345.861627  37.470283  6.178874  5.527774  634.255353   \n",
       "\n",
       "           x7         x8            x9        x10  ...       x12          x13  \\\n",
       "0 -425.516507  19.541551  102333.24180  37.515512  ...  1.177903  4531.019914   \n",
       "1 -154.993322  17.165756   56410.00878  33.667832  ...  6.288225  5745.900235   \n",
       "2 -337.001477  18.362978   37204.35472  24.194495  ...  5.241047  5369.285274   \n",
       "3 -297.096954  16.375756   54967.23130  20.578061  ...  2.316119          NaN   \n",
       "4 -243.072126  16.785630   62397.51981  39.815572  ...  5.366404  6161.928292   \n",
       "\n",
       "          x14        x15        x16         x17        x18         x19  \\\n",
       "0   65.320993  10.856422  42.317769  215.727832   9.922942  194.151039   \n",
       "1  124.629610  19.519498  37.481917  193.590955  10.280823  159.152326   \n",
       "2  136.536890  16.824492  31.761223  195.816664   9.604161  148.690528   \n",
       "3  118.295834  19.972844  51.722932  210.446677   8.108592  310.539447   \n",
       "4   61.414626  15.990853  51.659323  203.356424  12.552922  241.868249   \n",
       "\n",
       "        x20  y  \n",
       "0 -4.580311  0  \n",
       "1 -4.361565  0  \n",
       "2 -5.322491  1  \n",
       "3 -5.205344  0  \n",
       "4 -4.889072  1  \n",
       "\n",
       "[5 rows x 21 columns]"
      ]
     },
     "execution_count": 2,
     "metadata": {},
     "output_type": "execute_result"
    }
   ],
   "source": [
    "df_train = pd.read_csv('./train.csv')\n",
    "df_train.head()"
   ]
  },
  {
   "cell_type": "code",
   "execution_count": 3,
   "metadata": {},
   "outputs": [
    {
     "data": {
      "text/html": [
       "<div>\n",
       "<style scoped>\n",
       "    .dataframe tbody tr th:only-of-type {\n",
       "        vertical-align: middle;\n",
       "    }\n",
       "\n",
       "    .dataframe tbody tr th {\n",
       "        vertical-align: top;\n",
       "    }\n",
       "\n",
       "    .dataframe thead th {\n",
       "        text-align: right;\n",
       "    }\n",
       "</style>\n",
       "<table border=\"1\" class=\"dataframe\">\n",
       "  <thead>\n",
       "    <tr style=\"text-align: right;\">\n",
       "      <th></th>\n",
       "      <th>x1</th>\n",
       "      <th>x2</th>\n",
       "      <th>x3</th>\n",
       "      <th>x4</th>\n",
       "      <th>x5</th>\n",
       "      <th>x6</th>\n",
       "      <th>x7</th>\n",
       "      <th>x8</th>\n",
       "      <th>x9</th>\n",
       "      <th>x10</th>\n",
       "      <th>x11</th>\n",
       "      <th>x12</th>\n",
       "      <th>x13</th>\n",
       "      <th>x14</th>\n",
       "      <th>x15</th>\n",
       "      <th>x16</th>\n",
       "      <th>x17</th>\n",
       "      <th>x18</th>\n",
       "      <th>x19</th>\n",
       "      <th>x20</th>\n",
       "    </tr>\n",
       "  </thead>\n",
       "  <tbody>\n",
       "    <tr>\n",
       "      <th>0</th>\n",
       "      <td>-14.880285</td>\n",
       "      <td>-413.657030</td>\n",
       "      <td>17.037929</td>\n",
       "      <td>5.627481</td>\n",
       "      <td>6.262187</td>\n",
       "      <td>704.164878</td>\n",
       "      <td>-269.815659</td>\n",
       "      <td>13.503896</td>\n",
       "      <td>60805.03782</td>\n",
       "      <td>31.065906</td>\n",
       "      <td>5.625478</td>\n",
       "      <td>5.150013</td>\n",
       "      <td>6282.637653</td>\n",
       "      <td>174.281276</td>\n",
       "      <td>19.959450</td>\n",
       "      <td>32.278906</td>\n",
       "      <td>206.323118</td>\n",
       "      <td>8.337124</td>\n",
       "      <td>232.140628</td>\n",
       "      <td>-5.120450</td>\n",
       "    </tr>\n",
       "    <tr>\n",
       "      <th>1</th>\n",
       "      <td>-13.987087</td>\n",
       "      <td>-235.197680</td>\n",
       "      <td>53.670585</td>\n",
       "      <td>4.743702</td>\n",
       "      <td>4.670301</td>\n",
       "      <td>1226.941573</td>\n",
       "      <td>-184.656449</td>\n",
       "      <td>7.034055</td>\n",
       "      <td>55445.68723</td>\n",
       "      <td>15.189238</td>\n",
       "      <td>15.746002</td>\n",
       "      <td>3.880180</td>\n",
       "      <td>3759.028105</td>\n",
       "      <td>32.216142</td>\n",
       "      <td>17.054081</td>\n",
       "      <td>35.934156</td>\n",
       "      <td>191.790254</td>\n",
       "      <td>10.985527</td>\n",
       "      <td>267.024627</td>\n",
       "      <td>-5.200961</td>\n",
       "    </tr>\n",
       "    <tr>\n",
       "      <th>2</th>\n",
       "      <td>-11.764850</td>\n",
       "      <td>-192.880170</td>\n",
       "      <td>38.687566</td>\n",
       "      <td>5.606648</td>\n",
       "      <td>4.147060</td>\n",
       "      <td>940.690132</td>\n",
       "      <td>-182.564985</td>\n",
       "      <td>17.218596</td>\n",
       "      <td>31562.61815</td>\n",
       "      <td>34.769586</td>\n",
       "      <td>12.766144</td>\n",
       "      <td>4.885215</td>\n",
       "      <td>6722.719526</td>\n",
       "      <td>181.736690</td>\n",
       "      <td>20.479688</td>\n",
       "      <td>33.809666</td>\n",
       "      <td>166.718488</td>\n",
       "      <td>7.087623</td>\n",
       "      <td>115.762593</td>\n",
       "      <td>-6.080712</td>\n",
       "    </tr>\n",
       "    <tr>\n",
       "      <th>3</th>\n",
       "      <td>-10.790193</td>\n",
       "      <td>-204.849932</td>\n",
       "      <td>50.837951</td>\n",
       "      <td>5.934410</td>\n",
       "      <td>5.310772</td>\n",
       "      <td>794.581702</td>\n",
       "      <td>-245.911853</td>\n",
       "      <td>9.936746</td>\n",
       "      <td>47299.76010</td>\n",
       "      <td>25.565751</td>\n",
       "      <td>14.068207</td>\n",
       "      <td>7.156563</td>\n",
       "      <td>5651.188202</td>\n",
       "      <td>127.570137</td>\n",
       "      <td>20.904829</td>\n",
       "      <td>49.857911</td>\n",
       "      <td>139.872041</td>\n",
       "      <td>9.597151</td>\n",
       "      <td>213.574163</td>\n",
       "      <td>-6.355565</td>\n",
       "    </tr>\n",
       "    <tr>\n",
       "      <th>4</th>\n",
       "      <td>-17.113392</td>\n",
       "      <td>-141.457819</td>\n",
       "      <td>53.246627</td>\n",
       "      <td>5.939751</td>\n",
       "      <td>5.631022</td>\n",
       "      <td>543.441438</td>\n",
       "      <td>-302.081360</td>\n",
       "      <td>21.861266</td>\n",
       "      <td>66725.53006</td>\n",
       "      <td>34.796947</td>\n",
       "      <td>13.834198</td>\n",
       "      <td>4.743589</td>\n",
       "      <td>5376.558510</td>\n",
       "      <td>119.269139</td>\n",
       "      <td>19.826086</td>\n",
       "      <td>39.903060</td>\n",
       "      <td>311.541001</td>\n",
       "      <td>12.573611</td>\n",
       "      <td>263.709173</td>\n",
       "      <td>-4.329967</td>\n",
       "    </tr>\n",
       "  </tbody>\n",
       "</table>\n",
       "</div>"
      ],
      "text/plain": [
       "          x1          x2         x3        x4        x5           x6  \\\n",
       "0 -14.880285 -413.657030  17.037929  5.627481  6.262187   704.164878   \n",
       "1 -13.987087 -235.197680  53.670585  4.743702  4.670301  1226.941573   \n",
       "2 -11.764850 -192.880170  38.687566  5.606648  4.147060   940.690132   \n",
       "3 -10.790193 -204.849932  50.837951  5.934410  5.310772   794.581702   \n",
       "4 -17.113392 -141.457819  53.246627  5.939751  5.631022   543.441438   \n",
       "\n",
       "           x7         x8           x9        x10        x11       x12  \\\n",
       "0 -269.815659  13.503896  60805.03782  31.065906   5.625478  5.150013   \n",
       "1 -184.656449   7.034055  55445.68723  15.189238  15.746002  3.880180   \n",
       "2 -182.564985  17.218596  31562.61815  34.769586  12.766144  4.885215   \n",
       "3 -245.911853   9.936746  47299.76010  25.565751  14.068207  7.156563   \n",
       "4 -302.081360  21.861266  66725.53006  34.796947  13.834198  4.743589   \n",
       "\n",
       "           x13         x14        x15        x16         x17        x18  \\\n",
       "0  6282.637653  174.281276  19.959450  32.278906  206.323118   8.337124   \n",
       "1  3759.028105   32.216142  17.054081  35.934156  191.790254  10.985527   \n",
       "2  6722.719526  181.736690  20.479688  33.809666  166.718488   7.087623   \n",
       "3  5651.188202  127.570137  20.904829  49.857911  139.872041   9.597151   \n",
       "4  5376.558510  119.269139  19.826086  39.903060  311.541001  12.573611   \n",
       "\n",
       "          x19       x20  \n",
       "0  232.140628 -5.120450  \n",
       "1  267.024627 -5.200961  \n",
       "2  115.762593 -6.080712  \n",
       "3  213.574163 -6.355565  \n",
       "4  263.709173 -4.329967  "
      ]
     },
     "execution_count": 3,
     "metadata": {},
     "output_type": "execute_result"
    }
   ],
   "source": [
    "df_test = pd.read_csv('./test.csv')\n",
    "df_test.head()"
   ]
  },
  {
   "cell_type": "code",
   "execution_count": 4,
   "metadata": {},
   "outputs": [],
   "source": [
    "# Your work\n",
    "# Must have\n",
    "# 1. Cleansing data\n",
    "# 2. Exploratory Data Analysis (describe insight and visualization)\n",
    "# 3. Training data - Crossvalidation\n",
    "# 4. Testing data"
   ]
  },
  {
   "cell_type": "code",
   "execution_count": 5,
   "metadata": {},
   "outputs": [
    {
     "name": "stdout",
     "output_type": "stream",
     "text": [
      "x1     109\n",
      "x2      34\n",
      "x3      56\n",
      "x4      93\n",
      "x5      60\n",
      "x6     118\n",
      "x7      81\n",
      "x8     135\n",
      "x9       0\n",
      "x10     79\n",
      "x11     17\n",
      "x12     12\n",
      "x13    130\n",
      "x14    124\n",
      "x15    107\n",
      "x16     93\n",
      "x17    125\n",
      "x18     20\n",
      "x19    145\n",
      "x20    126\n",
      "y        0\n",
      "dtype: int64\n"
     ]
    }
   ],
   "source": [
    "print(df_train.isnull().sum())"
   ]
  },
  {
   "cell_type": "code",
   "execution_count": 6,
   "metadata": {},
   "outputs": [],
   "source": [
    "df = df_train.apply(lambda x: x.fillna(x.mean()),axis=0)"
   ]
  },
  {
   "cell_type": "code",
   "execution_count": 7,
   "metadata": {},
   "outputs": [],
   "source": [
    "y = df['y']\n",
    "X = df.drop('y', axis=1)"
   ]
  },
  {
   "cell_type": "code",
   "execution_count": 8,
   "metadata": {},
   "outputs": [
    {
     "name": "stdout",
     "output_type": "stream",
     "text": [
      "x1     0\n",
      "x2     0\n",
      "x3     0\n",
      "x4     0\n",
      "x5     0\n",
      "x6     0\n",
      "x7     0\n",
      "x8     0\n",
      "x9     0\n",
      "x10    0\n",
      "x11    0\n",
      "x12    0\n",
      "x13    0\n",
      "x14    0\n",
      "x15    0\n",
      "x16    0\n",
      "x17    0\n",
      "x18    0\n",
      "x19    0\n",
      "x20    0\n",
      "y      0\n",
      "dtype: int64\n"
     ]
    }
   ],
   "source": [
    "print(df.isnull().sum())"
   ]
  },
  {
   "cell_type": "code",
   "execution_count": 9,
   "metadata": {},
   "outputs": [],
   "source": [
    "from sklearn.preprocessing import StandardScaler\n",
    "\n",
    "scaler = StandardScaler()\n",
    "\n",
    "X = pd.DataFrame(scaler.fit_transform(X) , columns= X.columns)"
   ]
  },
  {
   "cell_type": "code",
   "execution_count": 10,
   "metadata": {},
   "outputs": [],
   "source": [
    "from sklearn.model_selection import train_test_split\n",
    "\n",
    "X_train, X_test, y_train, y_test = train_test_split(X,y, train_size=0.8)"
   ]
  },
  {
   "cell_type": "code",
   "execution_count": 11,
   "metadata": {},
   "outputs": [
    {
     "data": {
      "text/plain": [
       "0.25583333333333336"
      ]
     },
     "execution_count": 11,
     "metadata": {},
     "output_type": "execute_result"
    }
   ],
   "source": [
    "np.sum(y_train) / len(y_train)"
   ]
  },
  {
   "cell_type": "code",
   "execution_count": 12,
   "metadata": {},
   "outputs": [
    {
     "data": {
      "text/plain": [
       "<AxesSubplot:ylabel='y'>"
      ]
     },
     "execution_count": 12,
     "metadata": {},
     "output_type": "execute_result"
    },
    {
     "data": {
      "image/png": "[encoded data removed]",
      "text/plain": [
       "<Figure size 432x288 with 1 Axes>"
      ]
     },
     "metadata": {},
     "output_type": "display_data"
    }
   ],
   "source": [
    "y_train.value_counts().plot.pie(autopct = '%.2f')"
   ]
  },
  {
   "cell_type": "code",
   "execution_count": 13,
   "metadata": {},
   "outputs": [],
   "source": [
    "from imblearn.over_sampling import RandomOverSampler\n",
    "\n",
    "ros = RandomOverSampler(random_state=42)\n",
    "X_ros, y_ros = ros.fit_resample(X_train, y_train)"
   ]
  },
  {
   "cell_type": "code",
   "execution_count": 14,
   "metadata": {},
   "outputs": [
    {
     "data": {
      "text/plain": [
       "<AxesSubplot:ylabel='y'>"
      ]
     },
     "execution_count": 14,
     "metadata": {},
     "output_type": "execute_result"
    },
    {
     "data": {
      "image/png": "[encoded data removed]",
      "text/plain": [
       "<Figure size 432x288 with 1 Axes>"
      ]
     },
     "metadata": {},
     "output_type": "display_data"
    }
   ],
   "source": [
    "y_ros.value_counts().plot.pie(autopct = '%.2f')"
   ]
  },
  {
   "cell_type": "code",
   "execution_count": 15,
   "metadata": {},
   "outputs": [],
   "source": [
    "from sklearn.neural_network import MLPClassifier\n",
    "\n",
    "nn_model = MLPClassifier(hidden_layer_sizes=(128, 128))"
   ]
  },
  {
   "cell_type": "code",
   "execution_count": 16,
   "metadata": {},
   "outputs": [
    {
     "data": {
      "text/html": [
       "<style>#sk-container-id-1 {color: black;background-color: white;}#sk-container-id-1 pre{padding: 0;}#sk-container-id-1 div.sk-toggleable {background-color: white;}#sk-container-id-1 label.sk-toggleable__label {cursor: pointer;display: block;width: 100%;margin-bottom: 0;padding: 0.3em;box-sizing: border-box;text-align: center;}#sk-container-id-1 label.sk-toggleable__label-arrow:before {content: \"▸\";float: left;margin-right: 0.25em;color: #696969;}#sk-container-id-1 label.sk-toggleable__label-arrow:hover:before {color: black;}#sk-container-id-1 div.sk-estimator:hover label.sk-toggleable__label-arrow:before {color: black;}#sk-container-id-1 div.sk-toggleable__content {max-height: 0;max-width: 0;overflow: hidden;text-align: left;background-color: #f0f8ff;}#sk-container-id-1 div.sk-toggleable__content pre {margin: 0.2em;color: black;border-radius: 0.25em;background-color: #f0f8ff;}#sk-container-id-1 input.sk-toggleable__control:checked~div.sk-toggleable__content {max-height: 200px;max-width: 100%;overflow: auto;}#sk-container-id-1 input.sk-toggleable__control:checked~label.sk-toggleable__label-arrow:before {content: \"▾\";}#sk-container-id-1 div.sk-estimator input.sk-toggleable__control:checked~label.sk-toggleable__label {background-color: #d4ebff;}#sk-container-id-1 div.sk-label input.sk-toggleable__control:checked~label.sk-toggleable__label {background-color: #d4ebff;}#sk-container-id-1 input.sk-hidden--visually {border: 0;clip: rect(1px 1px 1px 1px);clip: rect(1px, 1px, 1px, 1px);height: 1px;margin: -1px;overflow: hidden;padding: 0;position: absolute;width: 1px;}#sk-container-id-1 div.sk-estimator {font-family: monospace;background-color: #f0f8ff;border: 1px dotted black;border-radius: 0.25em;box-sizing: border-box;margin-bottom: 0.5em;}#sk-container-id-1 div.sk-estimator:hover {background-color: #d4ebff;}#sk-container-id-1 div.sk-parallel-item::after {content: \"\";width: 100%;border-bottom: 1px solid gray;flex-grow: 1;}#sk-container-id-1 div.sk-label:hover label.sk-toggleable__label {background-color: #d4ebff;}#sk-container-id-1 div.sk-serial::before {content: \"\";position: absolute;border-left: 1px solid gray;box-sizing: border-box;top: 0;bottom: 0;left: 50%;z-index: 0;}#sk-container-id-1 div.sk-serial {display: flex;flex-direction: column;align-items: center;background-color: white;padding-right: 0.2em;padding-left: 0.2em;position: relative;}#sk-container-id-1 div.sk-item {position: relative;z-index: 1;}#sk-container-id-1 div.sk-parallel {display: flex;align-items: stretch;justify-content: center;background-color: white;position: relative;}#sk-container-id-1 div.sk-item::before, #sk-container-id-1 div.sk-parallel-item::before {content: \"\";position: absolute;border-left: 1px solid gray;box-sizing: border-box;top: 0;bottom: 0;left: 50%;z-index: -1;}#sk-container-id-1 div.sk-parallel-item {display: flex;flex-direction: column;z-index: 1;position: relative;background-color: white;}#sk-container-id-1 div.sk-parallel-item:first-child::after {align-self: flex-end;width: 50%;}#sk-container-id-1 div.sk-parallel-item:last-child::after {align-self: flex-start;width: 50%;}#sk-container-id-1 div.sk-parallel-item:only-child::after {width: 0;}#sk-container-id-1 div.sk-dashed-wrapped {border: 1px dashed gray;margin: 0 0.4em 0.5em 0.4em;box-sizing: border-box;padding-bottom: 0.4em;background-color: white;}#sk-container-id-1 div.sk-label label {font-family: monospace;font-weight: bold;display: inline-block;line-height: 1.2em;}#sk-container-id-1 div.sk-label-container {text-align: center;}#sk-container-id-1 div.sk-container {/* jupyter's `normalize.less` sets `[hidden] { display: none; }` but bootstrap.min.css set `[hidden] { display: none !important; }` so we also need the `!important` here to be able to override the default hidden behavior on the sphinx rendered scikit-learn.org. See: https://github.com/scikit-learn/scikit-learn/issues/21755 */display: inline-block !important;position: relative;}#sk-container-id-1 div.sk-text-repr-fallback {display: none;}</style><div id=\"sk-container-id-1\" class=\"sk-top-container\"><div class=\"sk-text-repr-fallback\"><pre>MLPClassifier(hidden_layer_sizes=(128, 128))</pre><b>In a Jupyter environment, please rerun this cell to show the HTML representation or trust the notebook. <br />On GitHub, the HTML representation is unable to render, please try loading this page with nbviewer.org.</b></div><div class=\"sk-container\" hidden><div class=\"sk-item\"><div class=\"sk-estimator sk-toggleable\"><input class=\"sk-toggleable__control sk-hidden--visually\" id=\"sk-estimator-id-1\" type=\"checkbox\" checked><label for=\"sk-estimator-id-1\" class=\"sk-toggleable__label sk-toggleable__label-arrow\">MLPClassifier</label><div class=\"sk-toggleable__content\"><pre>MLPClassifier(hidden_layer_sizes=(128, 128))</pre></div></div></div></div></div>"
      ],
      "text/plain": [
       "MLPClassifier(hidden_layer_sizes=(128, 128))"
      ]
     },
     "execution_count": 16,
     "metadata": {},
     "output_type": "execute_result"
    }
   ],
   "source": [
    "nn_model.fit(X_ros, y_ros)"
   ]
  },
  {
   "cell_type": "code",
   "execution_count": 17,
   "metadata": {},
   "outputs": [
    {
     "name": "stdout",
     "output_type": "stream",
     "text": [
      "Neural Network: 0.9766666666666667\n"
     ]
    }
   ],
   "source": [
    "print(f\"Neural Network: {nn_model.score(X_test, y_test)}\")"
   ]
  },
  {
   "cell_type": "code",
   "execution_count": 18,
   "metadata": {},
   "outputs": [
    {
     "name": "stdout",
     "output_type": "stream",
     "text": [
      "0.9778666666666667\n"
     ]
    }
   ],
   "source": [
    "from sklearn.model_selection import cross_val_score\n",
    "\n",
    "print(cross_val_score(nn_model, X, y, cv=10, scoring='accuracy').mean())"
   ]
  },
  {
   "cell_type": "code",
   "execution_count": 19,
   "metadata": {},
   "outputs": [],
   "source": [
    "predict = nn_model.predict(df_test)\n",
    "fields = ['id','Expected']\n",
    "df = pd.DataFrame()\n",
    "id = list(range(1,2501))\n",
    "df['id']=pd.Series(id)\n",
    "df['Expected']=pd.Series(predict)\n",
    "df.to_csv('submit6.csv', index=False)"
   ]
  }
 ],
 "metadata": {
  "interpreter": {
   "hash": "78a60c75a2a0d13c3623e1ca1ac97b3dbf31cdaea52cb48906262e4569bc8d3b"
  },
  "kernelspec": {
   "display_name": "Python 3.9.7 ('base')",
   "language": "python",
   "name": "python3"
  },
  "language_info": {
   "codemirror_mode": {
    "name": "ipython",
    "version": 3
   },
   "file_extension": ".py",
   "mimetype": "text/x-python",
   "name": "python",
   "nbconvert_exporter": "python",
   "pygments_lexer": "ipython3",
   "version": "3.9.7"
  },
  "orig_nbformat": 4
 },
 "nbformat": 4,
 "nbformat_minor": 2
}
